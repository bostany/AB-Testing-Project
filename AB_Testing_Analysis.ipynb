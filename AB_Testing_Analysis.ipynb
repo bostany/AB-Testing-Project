{
 "cells": [
  {
   "cell_type": "code",
   "execution_count": 3,
   "id": "f8e28a17-3ab5-4b4f-91b2-827b5d3abf8e",
   "metadata": {},
   "outputs": [
    {
     "name": "stdout",
     "output_type": "stream",
     "text": [
      "  InvoiceNo StockCode                          Description  Quantity  \\\n",
      "0    536365    85123A   WHITE HANGING HEART T-LIGHT HOLDER         6   \n",
      "1    536365     71053                  WHITE METAL LANTERN         6   \n",
      "2    536365    84406B       CREAM CUPID HEARTS COAT HANGER         8   \n",
      "3    536365    84029G  KNITTED UNION FLAG HOT WATER BOTTLE         6   \n",
      "4    536365    84029E       RED WOOLLY HOTTIE WHITE HEART.         6   \n",
      "\n",
      "      InvoiceDate  UnitPrice  CustomerID         Country  \n",
      "0  12/1/2010 8:26       2.55     17850.0  United Kingdom  \n",
      "1  12/1/2010 8:26       3.39     17850.0  United Kingdom  \n",
      "2  12/1/2010 8:26       2.75     17850.0  United Kingdom  \n",
      "3  12/1/2010 8:26       3.39     17850.0  United Kingdom  \n",
      "4  12/1/2010 8:26       3.39     17850.0  United Kingdom  \n",
      "(541909, 8)\n",
      "Index(['InvoiceNo', 'StockCode', 'Description', 'Quantity', 'InvoiceDate',\n",
      "       'UnitPrice', 'CustomerID', 'Country'],\n",
      "      dtype='object')\n"
     ]
    }
   ],
   "source": [
    "import pandas as pd\n",
    "\n",
    "# Load the dataset (update the file name as needed)\n",
    "data = pd.read_csv('OnlineRetail.csv', encoding='ISO-8859-1')  # Use encoding if errors occur\n",
    "##data = pd.read_csv('OnlineRetail.csv')  \n",
    "print(data.head())\n",
    "print(data.shape)\n",
    "print(data.columns)"
   ]
  },
  {
   "cell_type": "code",
   "execution_count": 5,
   "id": "abc2f6f0-9486-4c85-8317-f57697e0eccc",
   "metadata": {},
   "outputs": [
    {
     "name": "stdout",
     "output_type": "stream",
     "text": [
      "Group\n",
      "B    271412\n",
      "A    270497\n",
      "Name: count, dtype: int64\n"
     ]
    }
   ],
   "source": [
    "import numpy as np\n",
    "\n",
    "# Set a random seed for reproducibility\n",
    "np.random.seed(42)\n",
    "\n",
    "# Simulate A/B test groups (A = control, B = variant)\n",
    "data['Group'] = np.random.choice(['A', 'B'], size=len(data), p=[0.5, 0.5])\n",
    "print(data['Group'].value_counts())  # Check the split"
   ]
  },
  {
   "cell_type": "code",
   "execution_count": 9,
   "id": "bce8c872-edb9-446e-98a5-d7597f9e4b55",
   "metadata": {},
   "outputs": [
    {
     "name": "stdout",
     "output_type": "stream",
     "text": [
      "Conversion\n",
      "0    482310\n",
      "1     59599\n",
      "Name: count, dtype: int64\n"
     ]
    }
   ],
   "source": [
    "# Simulate conversions (e.g., 10% chance of purchase for Group A, 12% for Group B)\n",
    "data['Conversion'] = np.where(\n",
    "    data['Group'] == 'A',\n",
    "    np.random.choice([0, 1], size=len(data), p=[0.90, 0.10]),  # 10% conversion for A\n",
    "    np.random.choice([0, 1], size=len(data), p=[0.88, 0.12])   # 12% conversion for B\n",
    ")\n",
    "print(data['Conversion'].value_counts())  # 1 = purchase, 0 = no purchase"
   ]
  },
  {
   "cell_type": "code",
   "execution_count": 11,
   "id": "6994e304-19f1-40f8-97ab-8e34e03cd5f8",
   "metadata": {},
   "outputs": [
    {
     "data": {
      "text/plain": [
       "<bound method NDFrame.head of        InvoiceNo StockCode                          Description  Quantity  \\\n",
       "0         536365    85123A   WHITE HANGING HEART T-LIGHT HOLDER         6   \n",
       "1         536365     71053                  WHITE METAL LANTERN         6   \n",
       "2         536365    84406B       CREAM CUPID HEARTS COAT HANGER         8   \n",
       "3         536365    84029G  KNITTED UNION FLAG HOT WATER BOTTLE         6   \n",
       "4         536365    84029E       RED WOOLLY HOTTIE WHITE HEART.         6   \n",
       "...          ...       ...                                  ...       ...   \n",
       "541904    581587     22613          PACK OF 20 SPACEBOY NAPKINS        12   \n",
       "541905    581587     22899         CHILDREN'S APRON DOLLY GIRL          6   \n",
       "541906    581587     23254        CHILDRENS CUTLERY DOLLY GIRL          4   \n",
       "541907    581587     23255      CHILDRENS CUTLERY CIRCUS PARADE         4   \n",
       "541908    581587     22138        BAKING SET 9 PIECE RETROSPOT          3   \n",
       "\n",
       "            InvoiceDate  UnitPrice  CustomerID         Country Group  \\\n",
       "0        12/1/2010 8:26       2.55     17850.0  United Kingdom     A   \n",
       "1        12/1/2010 8:26       3.39     17850.0  United Kingdom     B   \n",
       "2        12/1/2010 8:26       2.75     17850.0  United Kingdom     B   \n",
       "3        12/1/2010 8:26       3.39     17850.0  United Kingdom     B   \n",
       "4        12/1/2010 8:26       3.39     17850.0  United Kingdom     A   \n",
       "...                 ...        ...         ...             ...   ...   \n",
       "541904  12/9/2011 12:50       0.85     12680.0          France     A   \n",
       "541905  12/9/2011 12:50       2.10     12680.0          France     B   \n",
       "541906  12/9/2011 12:50       4.15     12680.0          France     A   \n",
       "541907  12/9/2011 12:50       4.15     12680.0          France     B   \n",
       "541908  12/9/2011 12:50       4.95     12680.0          France     B   \n",
       "\n",
       "        Conversion  \n",
       "0                0  \n",
       "1                0  \n",
       "2                0  \n",
       "3                0  \n",
       "4                0  \n",
       "...            ...  \n",
       "541904           0  \n",
       "541905           0  \n",
       "541906           0  \n",
       "541907           0  \n",
       "541908           0  \n",
       "\n",
       "[541909 rows x 10 columns]>"
      ]
     },
     "execution_count": 11,
     "metadata": {},
     "output_type": "execute_result"
    }
   ],
   "source": [
    "data.head"
   ]
  },
  {
   "cell_type": "code",
   "execution_count": 15,
   "id": "6cbde2d9-75b4-4424-8c5c-b33615fc5b9a",
   "metadata": {},
   "outputs": [
    {
     "name": "stdout",
     "output_type": "stream",
     "text": [
      "(10000, 10)\n"
     ]
    }
   ],
   "source": [
    "data = data.sample(n=10000, random_state=42)\n",
    "print(data.shape)"
   ]
  },
  {
   "cell_type": "code",
   "execution_count": 17,
   "id": "5e02db5c-0f12-42d3-83dc-bf99352e48e6",
   "metadata": {},
   "outputs": [
    {
     "name": "stdout",
     "output_type": "stream",
     "text": [
      "       Group  Conversion\n",
      "209268     B           0\n",
      "207108     B           0\n",
      "167085     A           0\n",
      "471836     A           0\n",
      "115865     B           0\n",
      "Group\n",
      "A    0.099275\n",
      "B    0.118395\n",
      "Name: Conversion, dtype: float64\n"
     ]
    }
   ],
   "source": [
    "print(data[['Group', 'Conversion']].head())\n",
    "print(data.groupby('Group')['Conversion'].mean())  # Quick peek at conversion rates"
   ]
  },
  {
   "cell_type": "code",
   "execution_count": null,
   "id": "2beb2663-41e4-4e36-8bf1-ca3ec420e506",
   "metadata": {},
   "outputs": [],
   "source": [
    "## A/B Test Hypothesis\n",
    "# - **Null Hypothesis (H₀)**: The conversion rates of Design A and Design B are the same.\n",
    "# - **Alternative Hypothesis (H₁)**: Design B has a higher conversion rate than Design A (one-tailed test)."
   ]
  },
  {
   "cell_type": "code",
   "execution_count": null,
   "id": "a6bdb543-a561-4c6e-b889-e8a4c4e86928",
   "metadata": {},
   "outputs": [],
   "source": [
    "## Metric\n",
    "# - **Conversion Rate**: The proportion of interactions that result in a purchase (1 = purchase, 0 = no purchase).\n",
    "# - Calculated as: mean of the `Conversion` column per group."
   ]
  },
  {
   "cell_type": "code",
   "execution_count": null,
   "id": "0fe2e77c-575b-4159-8aa8-2dd50a361999",
   "metadata": {},
   "outputs": [],
   "source": [
    "## Significance Level\n",
    "#- **α = 0.05**: If the p-value from our test is less than 0.05, we reject the null hypothesis and conclude Design B is better."
   ]
  },
  {
   "cell_type": "code",
   "execution_count": 19,
   "id": "f3d9324c-1683-458e-bb2c-9215612093e0",
   "metadata": {},
   "outputs": [
    {
     "name": "stdout",
     "output_type": "stream",
     "text": [
      "Conversion Rates:\n",
      "Group\n",
      "A    0.099275\n",
      "B    0.118395\n",
      "Name: Conversion, dtype: float64\n",
      "\n",
      "Conversions and Totals:\n",
      "       Conversions  Total\n",
      "Group                    \n",
      "A              493   4966\n",
      "B              596   5034\n"
     ]
    }
   ],
   "source": [
    "# Conversion rates by group\n",
    "conversion_rates = data.groupby('Group')['Conversion'].mean()\n",
    "print(\"Conversion Rates:\")\n",
    "print(conversion_rates)\n",
    "\n",
    "# Number of conversions and total interactions per group\n",
    "conversions = data.groupby('Group')['Conversion'].sum()\n",
    "totals = data.groupby('Group')['Conversion'].count()\n",
    "print(\"\\nConversions and Totals:\")\n",
    "print(pd.DataFrame({'Conversions': conversions, 'Total': totals}))"
   ]
  },
  {
   "cell_type": "code",
   "execution_count": null,
   "id": "107f2f2b-a6af-4d7e-9cd9-a87c17e3ee67",
   "metadata": {},
   "outputs": [],
   "source": []
  }
 ],
 "metadata": {
  "kernelspec": {
   "display_name": "Python [conda env:base] *",
   "language": "python",
   "name": "conda-base-py"
  },
  "language_info": {
   "codemirror_mode": {
    "name": "ipython",
    "version": 3
   },
   "file_extension": ".py",
   "mimetype": "text/x-python",
   "name": "python",
   "nbconvert_exporter": "python",
   "pygments_lexer": "ipython3",
   "version": "3.12.3"
  }
 },
 "nbformat": 4,
 "nbformat_minor": 5
}
